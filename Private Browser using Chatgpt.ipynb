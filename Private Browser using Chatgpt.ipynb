{
 "cells": [
  {
   "cell_type": "code",
   "execution_count": 1,
   "id": "61795c34",
   "metadata": {},
   "outputs": [
    {
     "ename": "SystemExit",
     "evalue": "0",
     "output_type": "error",
     "traceback": [
      "An exception has occurred, use %tb to see the full traceback.\n",
      "\u001b[1;31mSystemExit\u001b[0m\u001b[1;31m:\u001b[0m 0\n"
     ]
    },
    {
     "name": "stderr",
     "output_type": "stream",
     "text": [
      "c:\\users\\tejkiran\\appdata\\local\\programs\\python\\python39\\lib\\site-packages\\IPython\\core\\interactiveshell.py:3449: UserWarning: To exit: use 'exit', 'quit', or Ctrl-D.\n",
      "  warn(\"To exit: use 'exit', 'quit', or Ctrl-D.\", stacklevel=1)\n"
     ]
    }
   ],
   "source": [
    "import sys\n",
    "from PyQt5.QtCore import *\n",
    "from PyQt5.QtGui import *\n",
    "from PyQt5.QtWebEngineWidgets import *\n",
    "from PyQt5.QtWidgets import *\n",
    "\n",
    "class PrivateBrowser(QMainWindow):\n",
    "    def __init__(self):\n",
    "        super().__init__()\n",
    "\n",
    "        # Create webview and set as central widget\n",
    "        self.webview = QWebEngineView(self)\n",
    "        self.setCentralWidget(self.webview)\n",
    "\n",
    "        # Create back and forward buttons\n",
    "        back_button = QPushButton(\"Back\", self)\n",
    "        back_button.clicked.connect(self.webview.back)\n",
    "        forward_button = QPushButton(\"Forward\", self)\n",
    "        forward_button.clicked.connect(self.webview.forward)\n",
    "\n",
    "        # Create a private browsing button\n",
    "        self.private_button = QPushButton(\"Private Browsing\", self)\n",
    "        self.private_button.clicked.connect(self.toggle_private_browsing)\n",
    "        self.private_button.setCheckable(True)\n",
    "        self.private_button.setAutoExclusive(True)\n",
    "\n",
    "        # Create a web profile for private browsing\n",
    "        self.private_profile = QWebEngineProfile(self)\n",
    "        self.private_profile.setPersistentCookiesPolicy(QWebEngineProfile.NoPersistentCookies)\n",
    "        self.private_profile.setHttpCacheType(QWebEngineProfile.MemoryHttpCache)\n",
    "\n",
    "        # Create toolbar and add buttons\n",
    "        toolbar = self.addToolBar(\"Navigation\")\n",
    "        toolbar.addWidget(back_button)\n",
    "        toolbar.addWidget(forward_button)\n",
    "        toolbar.addWidget(self.private_button)\n",
    "\n",
    "        # Set default URL and load it\n",
    "        self.webview.setUrl(QUrl(\"https://google.com\"))\n",
    "        self.webview.load(QUrl(\"https://google.com\"))\n",
    "\n",
    "        # Set window properties\n",
    "        self.setGeometry(100, 100, 800, 600)\n",
    "        self.setWindowTitle(\"Private Browser\")\n",
    "        self.show()\n",
    "    def toggle_private_browsing(self):\n",
    "        if self.private_button.isChecked():\n",
    "            # Switch to private browsing mode\n",
    "            self.private_button.setStyleSheet(\"background-color: black\")\n",
    "            self.webview.setPage(QWebEnginePage(self.private_profile, self.webview))\n",
    "            self.webview.load(QUrl(\"https://google.com\"))\n",
    "        else:\n",
    "            # Switch to normal browsing mode\n",
    "            self.private_button.setStyleSheet(\"background-color: white\")\n",
    "            self.webview.setPage(QWebEnginePage(self.webview))\n",
    "            self.webview.load(QUrl(\"https://google.com\"))\n",
    "\n",
    "app = QApplication(sys.argv)\n",
    "browser = PrivateBrowser()\n",
    "sys.exit(app.exec_())"
   ]
  },
  {
   "cell_type": "code",
   "execution_count": null,
   "id": "089f321e",
   "metadata": {},
   "outputs": [],
   "source": []
  }
 ],
 "metadata": {
  "kernelspec": {
   "display_name": "Python 3",
   "language": "python",
   "name": "python3"
  },
  "language_info": {
   "codemirror_mode": {
    "name": "ipython",
    "version": 3
   },
   "file_extension": ".py",
   "mimetype": "text/x-python",
   "name": "python",
   "nbconvert_exporter": "python",
   "pygments_lexer": "ipython3",
   "version": "3.9.2"
  }
 },
 "nbformat": 4,
 "nbformat_minor": 5
}
